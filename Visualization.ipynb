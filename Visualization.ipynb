{
 "cells": [
  {
   "cell_type": "code",
   "execution_count": 28,
   "id": "ce97260a-42b2-4bd0-912c-1a79740aeb9c",
   "metadata": {},
   "outputs": [],
   "source": [
    "from snow import Snow\n",
    "import torch\n",
    "import torch.nn as nn"
   ]
  },
  {
   "cell_type": "code",
   "execution_count": 126,
   "id": "a4b71eaf-6a87-495d-8a9b-02c7a22e8978",
   "metadata": {},
   "outputs": [],
   "source": [
    "# device = \"cuda:1\"\n",
    "dataset_id = 3\n",
    "dataset_names = [\"dtd\", \"action\", \"birds\", \"cars\"]#, \"food\"]\n",
    "dataset_classes = [47, 40, 200, 196]#, 101]\n",
    "model = Snow(8, 8, dataset_classes[dataset_id], variance=0.001)\n"
   ]
  },
  {
   "cell_type": "code",
   "execution_count": 127,
   "id": "e0f5ea38-00f6-4055-b36a-02ecfeb941c5",
   "metadata": {},
   "outputs": [
    {
     "data": {
      "text/plain": [
       "<All keys matched successfully>"
      ]
     },
     "execution_count": 127,
     "metadata": {},
     "output_type": "execute_result"
    }
   ],
   "source": [
    "model.load_state_dict(torch.load(f\"SNOW_{dataset_names[dataset_id]}.pth\"))"
   ]
  },
  {
   "cell_type": "code",
   "execution_count": 128,
   "id": "76639d2e-32bb-4112-8e97-fbe89b787357",
   "metadata": {},
   "outputs": [],
   "source": [
    "delta_model_weights = model.delta_model.conv1.weight\n",
    "_, indices =  torch.topk(model.delta_model.conv1_chp.params,8)\n",
    "source_model_weights = model.source_model.conv1.weight"
   ]
  },
  {
   "cell_type": "code",
   "execution_count": 129,
   "id": "6708c9ea-59f3-489e-8627-5027ab8a49ce",
   "metadata": {},
   "outputs": [],
   "source": [
    "filters = []\n",
    "for i in range(8):\n",
    "    a = delta_model_weights[i, :, :, :].view(7,7,3).detach().numpy()\n",
    "    filters.append((a - a.min())/(a.max()-a.min()))\n",
    "source_model_filters = []\n",
    "\n",
    "for i in range(8):\n",
    "    a = source_model_weights[indices[i], :, :, :].view(7,7,3).detach().numpy()\n",
    "    source_model_filters.append((a - a.min())/(a.max()-a.min()))"
   ]
  },
  {
   "cell_type": "code",
   "execution_count": 130,
   "id": "8d08c0c9-8517-4767-bfe9-84e86daed8d4",
   "metadata": {},
   "outputs": [],
   "source": [
    "import matplotlib.pyplot as plt"
   ]
  },
  {
   "cell_type": "code",
   "execution_count": 131,
   "id": "0ccf6e33-3197-48a6-9929-b2d0cc6131dc",
   "metadata": {},
   "outputs": [
    {
     "data": {
      "image/png": "[encoded data removed]",
      "text/plain": [
       "<Figure size 1152x288 with 18 Axes>"
      ]
     },
     "metadata": {
      "needs_background": "light"
     },
     "output_type": "display_data"
    }
   ],
   "source": [
    "fig, big_axs = plt.subplots(2, 1, figsize=[16,4])\n",
    "\n",
    "big_axs[0].get_xaxis().set_visible(False)\n",
    "big_axs[0].get_yaxis().set_visible(False)\n",
    "big_axs[0]._frameon=False\n",
    "big_axs[0].set_title(f\"Delta model's filters in first conv layer (trained on {dataset_names[dataset_id]} dataset)\", fontsize=15)\n",
    "\n",
    "big_axs[1].get_xaxis().set_visible(False)\n",
    "big_axs[1].get_yaxis().set_visible(False)\n",
    "big_axs[1]._frameon=False\n",
    "big_axs[1].set_title(f\"Most important source model's filters in first conv layer for {dataset_names[dataset_id]} dataset\", fontsize=15)\n",
    "\n",
    "\n",
    "\n",
    "for i in range(8):\n",
    "    ax = fig.add_subplot(2,8,i+1)\n",
    "    ax.imshow(filters[i])\n",
    "    ax.get_xaxis().set_visible(False)\n",
    "    ax.get_yaxis().set_visible(False)\n",
    "\n",
    "for i in range(8):\n",
    "    ax = fig.add_subplot(2,8,i+9)\n",
    "    ax.imshow(source_model_filters[i])\n",
    "    ax.get_xaxis().set_visible(False)\n",
    "    ax.get_yaxis().set_visible(False)"
   ]
  },
  {
   "cell_type": "code",
   "execution_count": null,
   "id": "e3cd9b40-671e-4dc0-9574-eb5c36bcf264",
   "metadata": {},
   "outputs": [],
   "source": []
  }
 ],
 "metadata": {
  "kernelspec": {
   "display_name": "Python 3",
   "language": "python",
   "name": "python3"
  },
  "language_info": {
   "codemirror_mode": {
    "name": "ipython",
    "version": 3
   },
   "file_extension": ".py",
   "mimetype": "text/x-python",
   "name": "python",
   "nbconvert_exporter": "python",
   "pygments_lexer": "ipython3",
   "version": "3.6.9"
  }
 },
 "nbformat": 4,
 "nbformat_minor": 5
}
